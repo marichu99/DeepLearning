{
 "cells": [
  {
   "cell_type": "code",
   "execution_count": null,
   "metadata": {},
   "outputs": [
    {
     "ename": "",
     "evalue": "",
     "output_type": "error",
     "traceback": [
      "\u001b[1;31mThe Kernel crashed while executing code in the the current cell or a previous cell. Please review the code in the cell(s) to identify a possible cause of the failure. Click <a href='https://aka.ms/vscodeJupyterKernelCrash'>here</a> for more info. View Jupyter <a href='command:jupyter.viewOutput'>log</a> for further details."
     ]
    },
    {
     "ename": "",
     "evalue": "",
     "output_type": "error",
     "traceback": [
      "\u001b[1;31mCanceled future for execute_request message before replies were done"
     ]
    }
   ],
   "source": [
    "# basic imports\n",
    "import tensorflow as tf\n",
    "from tensorflow import keras\n",
    "from keras import layers\n",
    "from keras.datasets import mnist"
   ]
  },
  {
   "cell_type": "code",
   "execution_count": null,
   "metadata": {},
   "outputs": [
    {
     "ename": "NameError",
     "evalue": "name 'mnist' is not defined",
     "output_type": "error",
     "traceback": [
      "\u001b[0;31m---------------------------------------------------------------------------\u001b[0m",
      "\u001b[0;31mNameError\u001b[0m                                 Traceback (most recent call last)",
      "\u001b[1;32m/home/mabera/Documents/mabera/projects/tensorflow/DeepLearning/rnns.ipynb Cell 2\u001b[0m line \u001b[0;36m2\n\u001b[1;32m      <a href='vscode-notebook-cell:/home/mabera/Documents/mabera/projects/tensorflow/DeepLearning/rnns.ipynb#W1sZmlsZQ%3D%3D?line=0'>1</a>\u001b[0m \u001b[39m# load the data\u001b[39;00m\n\u001b[0;32m----> <a href='vscode-notebook-cell:/home/mabera/Documents/mabera/projects/tensorflow/DeepLearning/rnns.ipynb#W1sZmlsZQ%3D%3D?line=1'>2</a>\u001b[0m (x_train,y_train),(x_test,y_test)\u001b[39m=\u001b[39mmnist\u001b[39m.\u001b[39mload_data()\n",
      "\u001b[0;31mNameError\u001b[0m: name 'mnist' is not defined"
     ]
    }
   ],
   "source": [
    "# load the data\n",
    "(x_train,y_train),(x_test,y_test)=mnist.load_data()\n",
    "# normalize the data\n",
    "x_train=x_train.astype(\"float32\")/255\n",
    "x_test=x_test.astype(\"float32\")/255"
   ]
  },
  {
   "cell_type": "code",
   "execution_count": null,
   "metadata": {},
   "outputs": [],
   "source": [
    "def compile_fit_evaluate(model):\n",
    "    # compile the model\n",
    "    model.compile(\n",
    "    # we usually add the from_logits parameter if we have not applied a softmax activation function\n",
    "    loss=keras.losses.SparseCategoricalCrossentropy(from_logits=True),\n",
    "    optimizer=keras.optimizers.adam(lr=0.001),\n",
    "    metric=[\"accuracy\"]\n",
    "    )\n",
    "    model.fit(x_train,y_train,batch_size=64,epochs=10,verbose=2)\n",
    "    model.evaluate(x_test,y_test,batch_size=64,verbose=2)"
   ]
  },
  {
   "cell_type": "code",
   "execution_count": null,
   "metadata": {},
   "outputs": [],
   "source": [
    "model=keras.Sequential([\n",
    "    layers.add(keras.Input(shape=(None,29,3))),\n",
    "    # lets put in a layer for a simple rnn\n",
    "    layers.SimpleRNN(512,return_sequences=True,activation=\"relu\"),\n",
    "    layers.SimpleRNN(512,activation=\"relu\"),\n",
    "    # now lets add the final outpput layer\n",
    "    layers.Dense(10,activation=\"relu\")\n",
    "])\n",
    "compile_fit_evaluate(model)"
   ]
  },
  {
   "cell_type": "code",
   "execution_count": null,
   "metadata": {},
   "outputs": [],
   "source": [
    "# lets try out with the gru and having set the activation to tanh\n",
    "model_gru=keras.Sequential()\n",
    "model_gru.add(keras.Input(shape=(None,28)))\n",
    "# add the first RNN\n",
    "model_gru.add(layers.SimpleRNN(256,return_sequences=True,activation=\"tanh\"))\n",
    "model_gru.add(layers.SimpleRNN(256,activation=\"tanh\"))\n",
    "# add the last layer which is a dense layer\n",
    "model_gru.add(layers.Dense(10))\n",
    "compile_fit_evaluate(model=model_gru)"
   ]
  },
  {
   "cell_type": "code",
   "execution_count": null,
   "metadata": {},
   "outputs": [],
   "source": [
    "# lets try out the lstm model on the same\n",
    "model_LSTM = keras.Sequential()\n",
    "model_LSTM.add(keras.Input(shape=(None,28)))\n",
    "model_LSTM.add(layers.LSTM(256,return_sequences=True,activation=\"tanh\"))\n",
    "model_LSTM.add(layers.LSTM(512,activation=\"tanh\"))\n",
    "model_LSTM.add(layers.Dense(10))\n",
    "\n",
    "compile_fit_evaluate(model_LSTM)"
   ]
  },
  {
   "cell_type": "code",
   "execution_count": null,
   "metadata": {},
   "outputs": [],
   "source": [
    "# let's try training on a convolution net\n",
    "model_CONV= keras.Sequential([\n",
    "    layers.Input(shape=(32,32,3)),\n",
    "    layers.Conv2D(32,3,padding=\"valid\",activation=\"relu\"),\n",
    "    # normalize before you pool\n",
    "    layers.BatchNormalization(),\n",
    "    layers.MaxPooling2D(pool_size=(2,2)),\n",
    "    layers.Conv2D(64,activation=\"relu\"),\n",
    "    layers.MaxPooling2D(),\n",
    "    layers.BatchNormalization(),\n",
    "    layers.Conv2D(128,activation=\"relu\"),\n",
    "    layers.MaxPooling2D(),\n",
    "    # lets flatten the layers and feed them to the dense layers\n",
    "    layers.Flatten(),\n",
    "    layers.Dense(64,activation=\"relu\")\n",
    "    layers.Dense(10)\n",
    "\n",
    "\n",
    "])"
   ]
  }
 ],
 "metadata": {
  "kernelspec": {
   "display_name": "Python 3 (ipykernel)",
   "language": "python",
   "name": "python3"
  },
  "language_info": {
   "codemirror_mode": {
    "name": "ipython",
    "version": 3
   },
   "file_extension": ".py",
   "mimetype": "text/x-python",
   "name": "python",
   "nbconvert_exporter": "python",
   "pygments_lexer": "ipython3",
   "version": "3.8.10"
  }
 },
 "nbformat": 4,
 "nbformat_minor": 2
}
